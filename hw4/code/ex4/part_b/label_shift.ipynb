{
 "cells": [
  {
   "cell_type": "code",
   "execution_count": 1,
   "metadata": {},
   "outputs": [],
   "source": [
    "import pandas as pd\n",
    "import numpy as np\n",
    "from sklearn.linear_model import LogisticRegression\n",
    "from sklearn.naive_bayes import GaussianNB\n",
    "from sklearn.neural_network import MLPClassifier\n",
    "from sklearn.metrics import balanced_accuracy_score, roc_auc_score\n",
    "# import KFold\n",
    "from sklearn.model_selection import KFold"
   ]
  },
  {
   "cell_type": "markdown",
   "metadata": {},
   "source": [
    "## Step 1: Generating Training Set\n",
    "\n",
    "In part a, we will generate a training set with 2 label, each is drawn from 2 different normal distribution. The test set will be subjected to label-shift bias model, and the class prior will the different from the training set."
   ]
  },
  {
   "cell_type": "code",
   "execution_count": 2,
   "metadata": {},
   "outputs": [
    {
     "name": "stdout",
     "output_type": "stream",
     "text": [
      "(2500, 1)\n",
      "(2500,)\n"
     ]
    }
   ],
   "source": [
    "# generate the training dataset with two labels, 0 and 1\n",
    "training_set = []\n",
    "\n",
    "# first, generate the datapoint with label 0, which is drawn from 2 normal distributions with mean 0 and 1, variance 1 and 2, respectively\n",
    "# the weight of the first normal distribution is 0.3 and the weight of the second normal distribution is 0.7\n",
    "# the number of data points is 1000\n",
    "\n",
    "mu_1, mu_2 = 0, 1\n",
    "sigma_1, sigma_2 = 1, 2\n",
    "label_0 = np.concatenate((np.random.normal(mu_1, sigma_1, 300), np.random.normal(mu_2, sigma_2, 700)))\n",
    "for i in range(len(label_0)):\n",
    "    training_set.append([label_0[i], 0])\n",
    "    \n",
    "# next, generate the datapoint with label 1, which is drawn from 2 normal distributions with mean 5 and 2, variance 7 and 4, respectively\n",
    "# the weight of the first normal distribution is 0.5 and the weight of the second normal distribution is 0.5\n",
    "# the number of data points is 1500\n",
    "\n",
    "mu_3, mu_4 = 5, 2\n",
    "sigma_3, sigma_4 = 7, 4\n",
    "label_1 = np.concatenate((np.random.normal(mu_3, sigma_3, 750), np.random.normal(mu_4, sigma_4, 750)))\n",
    "for i in range(len(label_1)):\n",
    "    training_set.append([label_1[i], 1])\n",
    "    \n",
    "training_set = np.array(training_set)\n",
    "\n",
    "X_train = training_set[:, 0].reshape(-1, 1)\n",
    "y_train = training_set[:, 1]\n",
    "\n",
    "print(X_train.shape)\n",
    "print(y_train.shape)"
   ]
  },
  {
   "cell_type": "markdown",
   "metadata": {},
   "source": [
    "## Step 2: Generating Testing Set\n",
    "\n",
    "In part b, the test set will have different class prior, so we will generate 200 points from class 0 and 100 points from class 1."
   ]
  },
  {
   "cell_type": "code",
   "execution_count": 3,
   "metadata": {},
   "outputs": [
    {
     "name": "stdout",
     "output_type": "stream",
     "text": [
      "(300, 1)\n",
      "(300,)\n"
     ]
    }
   ],
   "source": [
    "# generate the test dataset with two labels, 0 and 1\n",
    "testing_set = []\n",
    "\n",
    "# first, generate the datapoint with label 0, which is drawn from 2 normal distributions with mean 0 and 1, variance 1 and 2, respectively\n",
    "# the weight of the first normal distribution is 0.3 and the weight of the second normal distribution is 0.7\n",
    "# the number of data points is 100\n",
    "\n",
    "label_0 = np.concatenate((np.random.normal(mu_1, sigma_1, 60), np.random.normal(mu_2, sigma_2, 140)))\n",
    "for i in range(len(label_0)):\n",
    "    testing_set.append([label_0[i], 0])\n",
    "    \n",
    "# next, generate the datapoint with label 1, which is drawn from 2 normal distributions with mean 5 and 2, variance 7 and 4, respectively\n",
    "# the weight of the first normal distribution is 0.5 and the weight of the second normal distribution is 0.5\n",
    "# the number of data points is 150\n",
    "\n",
    "label_1 = np.concatenate((np.random.normal(mu_3, sigma_3, 50), np.random.normal(mu_4, sigma_4, 50)))\n",
    "for i in range(len(label_1)):\n",
    "    testing_set.append([label_1[i], 1])\n",
    "    \n",
    "testing_set = np.array(testing_set)\n",
    "\n",
    "X_test = testing_set[:, 0].reshape(-1, 1)\n",
    "y_test = testing_set[:, 1]\n",
    "\n",
    "print(X_test.shape)\n",
    "print(y_test.shape)"
   ]
  },
  {
   "cell_type": "markdown",
   "metadata": {},
   "source": [
    "## Step 3: Training and test the models on the generated datasets\n",
    "\n",
    "The first model we will be looking at is the logistic regression model"
   ]
  },
  {
   "cell_type": "code",
   "execution_count": 4,
   "metadata": {},
   "outputs": [
    {
     "name": "stdout",
     "output_type": "stream",
     "text": [
      "Training the Logistic Regression model...\n",
      "The average AUC score for 10 fold cross validation on the training set is:  0.6741395050464556\n",
      "The AUC score on the test set is:  0.70775\n"
     ]
    }
   ],
   "source": [
    "# first, use logistic regression to classify the data\n",
    "print(\"Training the Logistic Regression model...\")\n",
    "#initialize the 10 fold cross validation\n",
    "cv = KFold(n_splits=10, random_state=42, shuffle=True)\n",
    "\n",
    "auc_scores = []\n",
    "# fit the model on the training set\n",
    "for train_index, val_index in cv.split(X_train):\n",
    "    X_train_cv, X_val_cv = X_train[train_index], X_train[val_index]\n",
    "    y_train_cv, y_val_cv = y_train[train_index], y_train[val_index]\n",
    "    # initialize the model\n",
    "    lr_clf = LogisticRegression()\n",
    "    lr_clf.fit(X_train_cv, y_train_cv)\n",
    "    \n",
    "    # predict the labels on the validation set\n",
    "    y_pred = lr_clf.predict_proba(X_val_cv)\n",
    "    \n",
    "    #report the AUC score\n",
    "    auc_scores.append(roc_auc_score(y_val_cv, y_pred[:, 1]))\n",
    "    \n",
    "print(\"The average AUC score for 10 fold cross validation on the training set is: \", np.mean(auc_scores))\n",
    "\n",
    "# train the model on the whole training set\n",
    "lr_clf = LogisticRegression()\n",
    "lr_clf.fit(X_train, y_train)\n",
    "\n",
    "# predict the labels on the test set\n",
    "y_pred = lr_clf.predict_proba(X_test)\n",
    "\n",
    "# calculate the AUC score\n",
    "auc = roc_auc_score(y_test, y_pred[:, 1])\n",
    "print(\"The AUC score on the test set is: \", auc)\n"
   ]
  },
  {
   "cell_type": "markdown",
   "metadata": {},
   "source": [
    "The second model we will look at is the Naive Bayes model"
   ]
  },
  {
   "cell_type": "code",
   "execution_count": 5,
   "metadata": {},
   "outputs": [
    {
     "name": "stdout",
     "output_type": "stream",
     "text": [
      "Training the Naive Bayes model...\n",
      "The average AUC score for 10 fold cross validation on the training set is:  0.8087365655788517\n",
      "The AUC score on the test set is:  0.7888499999999999\n"
     ]
    }
   ],
   "source": [
    "#initialize the 10 fold cross validation\n",
    "print(\"Training the Naive Bayes model...\")\n",
    "cv = KFold(n_splits=10, random_state=42, shuffle=True)\n",
    "\n",
    "auc_scores = []\n",
    "# fit the model on the training set\n",
    "for train_index, val_index in cv.split(X_train):\n",
    "    X_train_cv, X_val_cv = X_train[train_index], X_train[val_index]\n",
    "    y_train_cv, y_val_cv = y_train[train_index], y_train[val_index]\n",
    "    # initialize the naive bayes model\n",
    "    nb_clf = GaussianNB()\n",
    "    nb_clf.fit(X_train_cv, y_train_cv)\n",
    "    \n",
    "    # predict the labels on the validation set\n",
    "    y_pred = nb_clf.predict_proba(X_val_cv)\n",
    "    \n",
    "    #report the AUC score\n",
    "    auc_scores.append(roc_auc_score(y_val_cv, y_pred[:, 1]))\n",
    "    \n",
    "print(\"The average AUC score for 10 fold cross validation on the training set is: \", np.mean(auc_scores))\n",
    "\n",
    "# train the model on the whole training set\n",
    "nb_clf = GaussianNB()\n",
    "nb_clf.fit(X_train, y_train)\n",
    "\n",
    "# predict the labels on the test set\n",
    "y_pred = nb_clf.predict_proba(X_test)\n",
    "\n",
    "# calculate the AUC score\n",
    "auc = roc_auc_score(y_test, y_pred[:, 1])\n",
    "print(\"The AUC score on the test set is: \", auc)"
   ]
  },
  {
   "cell_type": "markdown",
   "metadata": {},
   "source": [
    "The next model we will be looking at is the Multi Layer Perceptron with 3 hidden layer"
   ]
  },
  {
   "cell_type": "code",
   "execution_count": 6,
   "metadata": {},
   "outputs": [
    {
     "name": "stdout",
     "output_type": "stream",
     "text": [
      "Training the MLPClassifier model...\n",
      "The average AUC score for 10 fold cross validation on the training set is:  0.8125942961656956\n",
      "The AUC score on the test set is:  0.7932\n"
     ]
    }
   ],
   "source": [
    "#initialize the 10 fold cross validation\n",
    "print(\"Training the MLPClassifier model...\")\n",
    "cv = KFold(n_splits=10, random_state=42, shuffle=True)\n",
    "\n",
    "auc_scores = []\n",
    "# fit the model on the training set\n",
    "for train_index, val_index in cv.split(X_train):\n",
    "    X_train_cv, X_val_cv = X_train[train_index], X_train[val_index]\n",
    "    y_train_cv, y_val_cv = y_train[train_index], y_train[val_index]\n",
    "    # initialize the mlp model with 2 hidden layers, each with 3 neurons\n",
    "    # activation function is relu\n",
    "    mlp = MLPClassifier(hidden_layer_sizes=(3, 3), max_iter=1000, activation='relu', solver='adam')\n",
    "    mlp.fit(X_train_cv, y_train_cv)\n",
    "    \n",
    "    # predict the labels on the validation set\n",
    "    y_pred = mlp.predict_proba(X_val_cv)\n",
    "    \n",
    "    #report the AUC score\n",
    "    auc_scores.append(roc_auc_score(y_val_cv, y_pred[:, 1]))\n",
    "    \n",
    "print(\"The average AUC score for 10 fold cross validation on the training set is: \", np.mean(auc_scores))\n",
    "\n",
    "# train the model on the whole training set\n",
    "mlp = MLPClassifier(hidden_layer_sizes=(3, 3), max_iter=1000, activation='relu', solver='adam')\n",
    "mlp.fit(X_train, y_train)\n",
    "\n",
    "# predict the labels on the test set\n",
    "y_pred = mlp.predict_proba(X_test)\n",
    "\n",
    "# calculate the AUC score\n",
    "auc = roc_auc_score(y_test, y_pred[:, 1])\n",
    "print(\"The AUC score on the test set is: \", auc)"
   ]
  }
 ],
 "metadata": {
  "kernelspec": {
   "display_name": "Python 3.8.8 ('base')",
   "language": "python",
   "name": "python3"
  },
  "language_info": {
   "codemirror_mode": {
    "name": "ipython",
    "version": 3
   },
   "file_extension": ".py",
   "mimetype": "text/x-python",
   "name": "python",
   "nbconvert_exporter": "python",
   "pygments_lexer": "ipython3",
   "version": "3.8.8"
  },
  "orig_nbformat": 4,
  "vscode": {
   "interpreter": {
    "hash": "c391d04464899f069638e99b0beb45e9264e4197492d9aae04e2f1427c9df9cf"
   }
  }
 },
 "nbformat": 4,
 "nbformat_minor": 2
}
